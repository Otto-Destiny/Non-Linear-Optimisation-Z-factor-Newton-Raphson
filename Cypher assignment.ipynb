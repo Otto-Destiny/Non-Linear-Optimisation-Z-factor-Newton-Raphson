{
 "cells": [
  {
   "cell_type": "code",
   "execution_count": 2,
   "metadata": {},
   "outputs": [
    {
     "ename": "SyntaxError",
     "evalue": "unexpected EOF while parsing (<ipython-input-2-4f899e7ff273>, line 59)",
     "output_type": "error",
     "traceback": [
      "\u001b[1;36m  File \u001b[1;32m\"<ipython-input-2-4f899e7ff273>\"\u001b[1;36m, line \u001b[1;32m59\u001b[0m\n\u001b[1;33m    \u001b[0m\n\u001b[1;37m    ^\u001b[0m\n\u001b[1;31mSyntaxError\u001b[0m\u001b[1;31m:\u001b[0m unexpected EOF while parsing\n"
     ]
    }
   ],
   "source": [
    "import math\n",
    "from math import *\n",
    "from scipy import special\n",
    "\n",
    "#dimensionless time (tD)\n",
    "tD = 6.33*k*t/(phi*mu*cwt*r**2)\n",
    "\n",
    "#tcross (if tD < tcross, then aquifer is infinte else it is finite)\n",
    "b0 = -1.767\n",
    "b1 = -0.606\n",
    "b2 = 0.12368\n",
    "b3 = 3.02\n",
    "b4 = 2.25\n",
    "b5 = 0.5\n",
    "tcross = b0+b1(rD)+b2((rD)**b4)+b3(loge(rD))**b5\n",
    "\n",
    "\n",
    "#dimensionless aquifer size (rD)\n",
    "rD = ra/r\n",
    "\n",
    "##############################################################################\n",
    "#Constant Terminal Pressure for finite aquifers(tD > tcross)\n",
    "##############################################################################\n",
    "csch(rD) = 2/((e**rD)-(e**-rD))\n",
    "#for alpha 1\n",
    "b0 = -0.00222107\n",
    "b1 = -0.627638\n",
    "b2 = 6.277915\n",
    "b3 = -2.734405\n",
    "b4 = 1.2708\n",
    "b5 = -1.100417\n",
    "a1 = b0+b1*(csch(rD))+b2*(rD**b3)+b4*(rD**b5)\n",
    "\n",
    "#for alpha 2\n",
    "b0 = -0.00796608\n",
    "b1 = -1.85408\n",
    "b2 = 18.71169\n",
    "b3 = -2.758326\n",
    "b4 = 4.829162\n",
    "b5 = -1.009021\n",
    "a2 = b0+b1*(csch(rD))+b2*(rD**b3)+b4*(rD**b5)\n",
    "\n",
    "#Calculate qD\n",
    "bj_0_1 = special.j0(a1)\n",
    "bj_1_1 = special.j1(a1*rD)\n",
    "bj_0_2 = special.j0(a2)\n",
    "bj_1_2 = special.j1(a2*rD)\n",
    "qD1 = ((rD**2)-1)/2\n",
    "qD2 = (2e**((-a1**2)*tD)*bj_1_1**2)/((a1**2)*bj_0_1**2 - bj_1_1**2)\n",
    "\n",
    "qD3 = (2*e**((-a2**2)*tD)*(bj_1_2)**2)/((a1**2)*(bj_0_1**2)- bj_1_1**2\n",
    "qD = qD1 - qD2 - qD3\n",
    "                    \n",
    "\n",
    "\n",
    "\n",
    "\n",
    "\n",
    "\n",
    "\n",
    "\n",
    "\n",
    "'''#for tD < 0.01\n",
    "qD = (2/SQRT(pi))(SQRT(tD))\n",
    "\n",
    "#for 0.01-< tD <200\n",
    "\n",
    "b0 = 1.129552\n",
    "b1 = 1.160436\n",
    "b2 = 0.2642821\n",
    "b3 = 0.01131791\n",
    "b4 = 0.5900113\n",
    "b5 = 0.04589742\n",
    "b6 = 1.00\n",
    "b7 = 0.5002034\n",
    "b8 = 1.500\n",
    "b9 = 1.979139\n",
    "\n",
    "qD = (b0(tD**b7)+b1(tD)+b2(tD**b8)+b3(tD**b9))/(b4(tD**b7)+b5(tD)+b6)\n",
    "\n",
    "#for 200-<tD<2.0*10^12\n",
    "b0 = 4.39880\n",
    "b1 = 0.43693\n",
    "b2 = -4.16078\n",
    "b3 = 0.090\n",
    "qD = 10**(b0+b1*loge(tD)+b2((loge(tD))**b3)'''\n",
    "          \n",
    "#################################################################################\n",
    "#Aquifer parameters\n",
    "#################################################################################\n",
    "          \n",
    "\n",
    "\n",
    "\n",
    "\n",
    "          \n",
    "          \n",
    "\n",
    "          \n",
    "\n",
    "\n",
    "\n",
    "\n",
    "\n",
    "\n",
    "\n"
   ]
  },
  {
   "cell_type": "code",
   "execution_count": 5,
   "metadata": {},
   "outputs": [
    {
     "data": {
      "text/plain": [
       "['__name__',\n",
       " '__doc__',\n",
       " '__package__',\n",
       " '__loader__',\n",
       " '__spec__',\n",
       " 'acos',\n",
       " 'acosh',\n",
       " 'asin',\n",
       " 'asinh',\n",
       " 'atan',\n",
       " 'atan2',\n",
       " 'atanh',\n",
       " 'ceil',\n",
       " 'copysign',\n",
       " 'cos',\n",
       " 'cosh',\n",
       " 'degrees',\n",
       " 'dist',\n",
       " 'erf',\n",
       " 'erfc',\n",
       " 'exp',\n",
       " 'expm1',\n",
       " 'fabs',\n",
       " 'factorial',\n",
       " 'floor',\n",
       " 'fmod',\n",
       " 'frexp',\n",
       " 'fsum',\n",
       " 'gamma',\n",
       " 'gcd',\n",
       " 'hypot',\n",
       " 'isclose',\n",
       " 'isfinite',\n",
       " 'isinf',\n",
       " 'isnan',\n",
       " 'isqrt',\n",
       " 'ldexp',\n",
       " 'lgamma',\n",
       " 'log',\n",
       " 'log1p',\n",
       " 'log10',\n",
       " 'log2',\n",
       " 'modf',\n",
       " 'pow',\n",
       " 'radians',\n",
       " 'remainder',\n",
       " 'sin',\n",
       " 'sinh',\n",
       " 'sqrt',\n",
       " 'tan',\n",
       " 'tanh',\n",
       " 'trunc',\n",
       " 'prod',\n",
       " 'perm',\n",
       " 'comb',\n",
       " 'pi',\n",
       " 'e',\n",
       " 'tau',\n",
       " 'inf',\n",
       " 'nan']"
      ]
     },
     "execution_count": 5,
     "metadata": {},
     "output_type": "execute_result"
    }
   ],
   "source": []
  },
  {
   "cell_type": "code",
   "execution_count": 6,
   "metadata": {},
   "outputs": [],
   "source": [
    "import scipy"
   ]
  },
  {
   "cell_type": "code",
   "execution_count": 8,
   "metadata": {},
   "outputs": [],
   "source": [
    "a = scipy.__dir__()"
   ]
  },
  {
   "cell_type": "code",
   "execution_count": 9,
   "metadata": {},
   "outputs": [],
   "source": [
    "import sympy"
   ]
  },
  {
   "cell_type": "code",
   "execution_count": 11,
   "metadata": {},
   "outputs": [
    {
     "ename": "AttributeError",
     "evalue": "module 'scipy' has no attribute 'special'",
     "output_type": "error",
     "traceback": [
      "\u001b[1;31m---------------------------------------------------------------------------\u001b[0m",
      "\u001b[1;31mAttributeError\u001b[0m                            Traceback (most recent call last)",
      "\u001b[1;32m<ipython-input-11-b57ac6d233f3>\u001b[0m in \u001b[0;36m<module>\u001b[1;34m\u001b[0m\n\u001b[1;32m----> 1\u001b[1;33m \u001b[0mscipy\u001b[0m\u001b[1;33m.\u001b[0m\u001b[0mspecial\u001b[0m\u001b[1;33m.\u001b[0m\u001b[0mjv\u001b[0m\u001b[1;33m(\u001b[0m\u001b[1;36m1\u001b[0m\u001b[1;33m,\u001b[0m\u001b[1;36m1\u001b[0m\u001b[1;33m)\u001b[0m\u001b[1;33m\u001b[0m\u001b[1;33m\u001b[0m\u001b[0m\n\u001b[0m",
      "\u001b[1;31mAttributeError\u001b[0m: module 'scipy' has no attribute 'special'"
     ]
    }
   ],
   "source": [
    "scipy.special.jv(1,1) "
   ]
  },
  {
   "cell_type": "code",
   "execution_count": null,
   "metadata": {},
   "outputs": [],
   "source": []
  },
  {
   "cell_type": "code",
   "execution_count": null,
   "metadata": {},
   "outputs": [],
   "source": []
  },
  {
   "cell_type": "code",
   "execution_count": null,
   "metadata": {},
   "outputs": [],
   "source": []
  },
  {
   "cell_type": "code",
   "execution_count": null,
   "metadata": {},
   "outputs": [],
   "source": []
  }
 ],
 "metadata": {
  "kernelspec": {
   "display_name": "Python 3",
   "language": "python",
   "name": "python3"
  },
  "language_info": {
   "codemirror_mode": {
    "name": "ipython",
    "version": 3
   },
   "file_extension": ".py",
   "mimetype": "text/x-python",
   "name": "python",
   "nbconvert_exporter": "python",
   "pygments_lexer": "ipython3",
   "version": "3.8.3"
  }
 },
 "nbformat": 4,
 "nbformat_minor": 4
}
