{
 "cells": [
  {
   "cell_type": "code",
   "execution_count": 1,
   "metadata": {},
   "outputs": [],
   "source": [
    "import pandas as pd\n",
    "import numpy as np\n",
    "import matplotlib.pyplot as plt\n",
    "import math"
   ]
  },
  {
   "cell_type": "code",
   "execution_count": 2,
   "metadata": {},
   "outputs": [],
   "source": [
    "import math\n",
    "from math import *\n",
    "from scipy import special"
   ]
  },
  {
   "cell_type": "code",
   "execution_count": 3,
   "metadata": {},
   "outputs": [],
   "source": [
    "data1 = pd.read_excel('cyexcel.xlsx',sheet_name = 'Sheet1')\n",
    "data2 = pd.read_excel('cyexcel.xlsx',sheet_name = 'Sheet2')"
   ]
  },
  {
   "cell_type": "code",
   "execution_count": 4,
   "metadata": {},
   "outputs": [
    {
     "data": {
      "text/html": [
       "<div>\n",
       "<style scoped>\n",
       "    .dataframe tbody tr th:only-of-type {\n",
       "        vertical-align: middle;\n",
       "    }\n",
       "\n",
       "    .dataframe tbody tr th {\n",
       "        vertical-align: top;\n",
       "    }\n",
       "\n",
       "    .dataframe thead th {\n",
       "        text-align: right;\n",
       "    }\n",
       "</style>\n",
       "<table border=\"1\" class=\"dataframe\">\n",
       "  <thead>\n",
       "    <tr style=\"text-align: right;\">\n",
       "      <th></th>\n",
       "      <th>Time</th>\n",
       "      <th>Np</th>\n",
       "      <th>Rp</th>\n",
       "      <th>Bo</th>\n",
       "      <th>Rs</th>\n",
       "      <th>Bg</th>\n",
       "    </tr>\n",
       "  </thead>\n",
       "  <tbody>\n",
       "    <tr>\n",
       "      <th>0</th>\n",
       "      <td>0</td>\n",
       "      <td>NaN</td>\n",
       "      <td>650</td>\n",
       "      <td>1.404</td>\n",
       "      <td>650</td>\n",
       "      <td>0.00093</td>\n",
       "    </tr>\n",
       "    <tr>\n",
       "      <th>1</th>\n",
       "      <td>1</td>\n",
       "      <td>7.88</td>\n",
       "      <td>760</td>\n",
       "      <td>1.374</td>\n",
       "      <td>592</td>\n",
       "      <td>0.00098</td>\n",
       "    </tr>\n",
       "    <tr>\n",
       "      <th>2</th>\n",
       "      <td>2</td>\n",
       "      <td>18.42</td>\n",
       "      <td>845</td>\n",
       "      <td>1.349</td>\n",
       "      <td>545</td>\n",
       "      <td>0.00107</td>\n",
       "    </tr>\n",
       "    <tr>\n",
       "      <th>3</th>\n",
       "      <td>3</td>\n",
       "      <td>29.15</td>\n",
       "      <td>920</td>\n",
       "      <td>1.329</td>\n",
       "      <td>507</td>\n",
       "      <td>0.00117</td>\n",
       "    </tr>\n",
       "    <tr>\n",
       "      <th>4</th>\n",
       "      <td>4</td>\n",
       "      <td>40.69</td>\n",
       "      <td>975</td>\n",
       "      <td>1.316</td>\n",
       "      <td>471</td>\n",
       "      <td>0.00128</td>\n",
       "    </tr>\n",
       "    <tr>\n",
       "      <th>5</th>\n",
       "      <td>5</td>\n",
       "      <td>50.14</td>\n",
       "      <td>1025</td>\n",
       "      <td>1.303</td>\n",
       "      <td>442</td>\n",
       "      <td>0.00139</td>\n",
       "    </tr>\n",
       "    <tr>\n",
       "      <th>6</th>\n",
       "      <td>6</td>\n",
       "      <td>58.42</td>\n",
       "      <td>1065</td>\n",
       "      <td>1.294</td>\n",
       "      <td>418</td>\n",
       "      <td>0.00150</td>\n",
       "    </tr>\n",
       "    <tr>\n",
       "      <th>7</th>\n",
       "      <td>7</td>\n",
       "      <td>65.39</td>\n",
       "      <td>1095</td>\n",
       "      <td>1.287</td>\n",
       "      <td>398</td>\n",
       "      <td>0.00160</td>\n",
       "    </tr>\n",
       "    <tr>\n",
       "      <th>8</th>\n",
       "      <td>8</td>\n",
       "      <td>70.74</td>\n",
       "      <td>1120</td>\n",
       "      <td>1.280</td>\n",
       "      <td>383</td>\n",
       "      <td>0.00170</td>\n",
       "    </tr>\n",
       "    <tr>\n",
       "      <th>9</th>\n",
       "      <td>9</td>\n",
       "      <td>74.54</td>\n",
       "      <td>1145</td>\n",
       "      <td>1.276</td>\n",
       "      <td>381</td>\n",
       "      <td>0.00176</td>\n",
       "    </tr>\n",
       "    <tr>\n",
       "      <th>10</th>\n",
       "      <td>10</td>\n",
       "      <td>77.43</td>\n",
       "      <td>1160</td>\n",
       "      <td>1.273</td>\n",
       "      <td>364</td>\n",
       "      <td>0.00182</td>\n",
       "    </tr>\n",
       "  </tbody>\n",
       "</table>\n",
       "</div>"
      ],
      "text/plain": [
       "    Time     Np    Rp     Bo   Rs       Bg\n",
       "0      0    NaN   650  1.404  650  0.00093\n",
       "1      1   7.88   760  1.374  592  0.00098\n",
       "2      2  18.42   845  1.349  545  0.00107\n",
       "3      3  29.15   920  1.329  507  0.00117\n",
       "4      4  40.69   975  1.316  471  0.00128\n",
       "5      5  50.14  1025  1.303  442  0.00139\n",
       "6      6  58.42  1065  1.294  418  0.00150\n",
       "7      7  65.39  1095  1.287  398  0.00160\n",
       "8      8  70.74  1120  1.280  383  0.00170\n",
       "9      9  74.54  1145  1.276  381  0.00176\n",
       "10    10  77.43  1160  1.273  364  0.00182"
      ]
     },
     "execution_count": 4,
     "metadata": {},
     "output_type": "execute_result"
    }
   ],
   "source": [
    "data2"
   ]
  },
  {
   "cell_type": "code",
   "execution_count": 5,
   "metadata": {},
   "outputs": [
    {
     "data": {
      "text/html": [
       "<div>\n",
       "<style scoped>\n",
       "    .dataframe tbody tr th:only-of-type {\n",
       "        vertical-align: middle;\n",
       "    }\n",
       "\n",
       "    .dataframe tbody tr th {\n",
       "        vertical-align: top;\n",
       "    }\n",
       "\n",
       "    .dataframe thead th {\n",
       "        text-align: right;\n",
       "    }\n",
       "</style>\n",
       "<table border=\"1\" class=\"dataframe\">\n",
       "  <thead>\n",
       "    <tr style=\"text-align: right;\">\n",
       "      <th></th>\n",
       "      <th>Time(years)</th>\n",
       "      <th>Pressure OWC(psia)</th>\n",
       "      <th>Plateau pressure (psia)</th>\n",
       "      <th>delta p</th>\n",
       "    </tr>\n",
       "  </thead>\n",
       "  <tbody>\n",
       "    <tr>\n",
       "      <th>0</th>\n",
       "      <td>0</td>\n",
       "      <td>2740</td>\n",
       "      <td>NaN</td>\n",
       "      <td>120.0</td>\n",
       "    </tr>\n",
       "    <tr>\n",
       "      <th>1</th>\n",
       "      <td>1</td>\n",
       "      <td>2500</td>\n",
       "      <td>2620.0</td>\n",
       "      <td>225.0</td>\n",
       "    </tr>\n",
       "    <tr>\n",
       "      <th>2</th>\n",
       "      <td>2</td>\n",
       "      <td>2290</td>\n",
       "      <td>2395.0</td>\n",
       "      <td>196.0</td>\n",
       "    </tr>\n",
       "    <tr>\n",
       "      <th>3</th>\n",
       "      <td>3</td>\n",
       "      <td>2109</td>\n",
       "      <td>2199.0</td>\n",
       "      <td>170.0</td>\n",
       "    </tr>\n",
       "    <tr>\n",
       "      <th>4</th>\n",
       "      <td>4</td>\n",
       "      <td>1949</td>\n",
       "      <td>2029.0</td>\n",
       "      <td>146.0</td>\n",
       "    </tr>\n",
       "    <tr>\n",
       "      <th>5</th>\n",
       "      <td>5</td>\n",
       "      <td>1818</td>\n",
       "      <td>1883.0</td>\n",
       "      <td>123.0</td>\n",
       "    </tr>\n",
       "    <tr>\n",
       "      <th>6</th>\n",
       "      <td>6</td>\n",
       "      <td>1702</td>\n",
       "      <td>1760.0</td>\n",
       "      <td>105.0</td>\n",
       "    </tr>\n",
       "    <tr>\n",
       "      <th>7</th>\n",
       "      <td>7</td>\n",
       "      <td>1608</td>\n",
       "      <td>1655.0</td>\n",
       "      <td>84.0</td>\n",
       "    </tr>\n",
       "    <tr>\n",
       "      <th>8</th>\n",
       "      <td>8</td>\n",
       "      <td>1635</td>\n",
       "      <td>1571.0</td>\n",
       "      <td>64.0</td>\n",
       "    </tr>\n",
       "    <tr>\n",
       "      <th>9</th>\n",
       "      <td>9</td>\n",
       "      <td>1480</td>\n",
       "      <td>1507.0</td>\n",
       "      <td>47.0</td>\n",
       "    </tr>\n",
       "    <tr>\n",
       "      <th>10</th>\n",
       "      <td>10</td>\n",
       "      <td>1440</td>\n",
       "      <td>1460.0</td>\n",
       "      <td>NaN</td>\n",
       "    </tr>\n",
       "  </tbody>\n",
       "</table>\n",
       "</div>"
      ],
      "text/plain": [
       "    Time(years)  Pressure OWC(psia)  Plateau pressure (psia)  delta p\n",
       "0             0                2740                      NaN    120.0\n",
       "1             1                2500                   2620.0    225.0\n",
       "2             2                2290                   2395.0    196.0\n",
       "3             3                2109                   2199.0    170.0\n",
       "4             4                1949                   2029.0    146.0\n",
       "5             5                1818                   1883.0    123.0\n",
       "6             6                1702                   1760.0    105.0\n",
       "7             7                1608                   1655.0     84.0\n",
       "8             8                1635                   1571.0     64.0\n",
       "9             9                1480                   1507.0     47.0\n",
       "10           10                1440                   1460.0      NaN"
      ]
     },
     "execution_count": 5,
     "metadata": {},
     "output_type": "execute_result"
    }
   ],
   "source": [
    "data1"
   ]
  },
  {
   "cell_type": "code",
   "execution_count": 8,
   "metadata": {},
   "outputs": [],
   "source": [
    "data1 = data1.set_index('Time(years)')"
   ]
  },
  {
   "cell_type": "code",
   "execution_count": null,
   "metadata": {},
   "outputs": [],
   "source": [
    "data2 = data2.set_index('Time')"
   ]
  },
  {
   "cell_type": "code",
   "execution_count": null,
   "metadata": {},
   "outputs": [],
   "source": [
    "df = data1.join(data2,how = 'left')"
   ]
  },
  {
   "cell_type": "code",
   "execution_count": null,
   "metadata": {},
   "outputs": [],
   "source": [
    "df"
   ]
  },
  {
   "cell_type": "code",
   "execution_count": null,
   "metadata": {},
   "outputs": [],
   "source": [
    "\n",
    "\n",
    "def t(t):\n",
    "    k = 200\n",
    "    phi = 0.25\n",
    "    mew = 0.55\n",
    "    c = 7 * 10**(-6)\n",
    "    ro = 9200\n",
    "    \n",
    "    return (2.309*k*t)/(phi*mew*c*ro**2)\n",
    "    \n",
    "    \n",
    "    \n",
    "    "
   ]
  },
  {
   "cell_type": "code",
   "execution_count": null,
   "metadata": {},
   "outputs": [],
   "source": [
    "df.reset_index(inplace = True)"
   ]
  },
  {
   "cell_type": "code",
   "execution_count": null,
   "metadata": {},
   "outputs": [],
   "source": [
    "df['tD'] = df['Time'].apply(tde)"
   ]
  },
  {
   "cell_type": "code",
   "execution_count": null,
   "metadata": {},
   "outputs": [],
   "source": [
    "df"
   ]
  },
  {
   "cell_type": "code",
   "execution_count": null,
   "metadata": {},
   "outputs": [],
   "source": []
  },
  {
   "cell_type": "markdown",
   "metadata": {},
   "source": [
    "## Global Variables"
   ]
  },
  {
   "cell_type": "code",
   "execution_count": null,
   "metadata": {},
   "outputs": [],
   "source": [
    "k = 200\n",
    "phi = 0.25\n",
    "mew = 0.55\n",
    "c = 7 * 10**(-6)\n",
    "ro = 9200\n",
    "h = 100\n",
    "Bw = 1.0\n",
    "cf = 4 *10**(-6)\n",
    "cw = 3 * 10**(-6)\n",
    "f = 140/360\n",
    "\n",
    "N = 312 * 10**6\n",
    "Swc = 0.05"
   ]
  },
  {
   "cell_type": "code",
   "execution_count": null,
   "metadata": {},
   "outputs": [],
   "source": [
    "U = 1.119 *f* phi *h*c*ro**2"
   ]
  },
  {
   "cell_type": "code",
   "execution_count": null,
   "metadata": {},
   "outputs": [],
   "source": [
    "U"
   ]
  },
  {
   "cell_type": "code",
   "execution_count": null,
   "metadata": {},
   "outputs": [],
   "source": [
    "def qde(tde,rD): \n",
    "    tD = tde\n",
    "    #for alpha 1\n",
    "    b0 = -0.00222107\n",
    "    b1 = -0.627638\n",
    "    b2 = 6.277915\n",
    "    b3 = -2.734405\n",
    "    b4 = 1.2708\n",
    "    b5 = -1.100417\n",
    "    a1 = b0+b1*csch(rD)+b2*(rD**b3)+b4*(rD**b5)\n",
    "\n",
    "    \n",
    "    #for alpha 2\n",
    "    b0 = -0.00796608\n",
    "    b1 = -1.85408\n",
    "    b2 = 18.71169\n",
    "    b3 = -2.758326\n",
    "    b4 = 4.829162\n",
    "    b5 = -1.009021\n",
    "    a2 = b0+b1*csch(rD) +b2*(rD**b3)+b4*(rD**b5)\n",
    "\n",
    "    \n",
    "    #Calculate qD\n",
    "    bes_0_1 = special.j0(a1)\n",
    "    bes_1_1 = special.j1(a1*rD)\n",
    "    bes_0_2 = special.j0(a2)\n",
    "    bes_1_2 = special.j1(a2*rD)\n",
    "    qD1 = ((rD**2)-1)/2\n",
    "    qD2 = (2*math.e**((-a1**2)*tD) *bes_1_1**2) / ((a1**2)*bes_0_1**2 - bes_1_1**2)\n",
    "\n",
    "    qD3 = (2*math.e**((-a2**2)*tD) *(bes_1_2)**2) / ( (a1**2)*(bes_0_2**2)- bes_1_2**2) \n",
    "    qD = qD1 - qD2 - qD3\n",
    "    \n",
    "    return qD                                         "
   ]
  },
  {
   "cell_type": "code",
   "execution_count": null,
   "metadata": {},
   "outputs": [],
   "source": [
    "def csch(rD) :\n",
    "    return 2/((e**rD)-(e**-rD))"
   ]
  },
  {
   "cell_type": "code",
   "execution_count": null,
   "metadata": {},
   "outputs": [],
   "source": [
    "def qde_assist(tde):\n",
    "    return qde(tde,5)"
   ]
  },
  {
   "cell_type": "code",
   "execution_count": null,
   "metadata": {},
   "outputs": [],
   "source": [
    "df['Wd'] = df['tde'].apply(qde_assist)"
   ]
  },
  {
   "cell_type": "code",
   "execution_count": null,
   "metadata": {},
   "outputs": [],
   "source": [
    "qde_assist(39.680357,5)"
   ]
  },
  {
   "cell_type": "code",
   "execution_count": null,
   "metadata": {},
   "outputs": [],
   "source": [
    "df"
   ]
  },
  {
   "cell_type": "code",
   "execution_count": null,
   "metadata": {},
   "outputs": [],
   "source": []
  },
  {
   "cell_type": "code",
   "execution_count": null,
   "metadata": {},
   "outputs": [],
   "source": [
    "b0 = -1.767\n",
    "b1 = -0.606\n",
    "b2 = 0.12368\n",
    "b3 = 3.02\n",
    "b4 = 2.25\n",
    "b5 = 0.5\n",
    "rD = 5\n",
    "tcross = b0+b1*rD+b2*((rD)**b4)+b3*(math.log(rD))**b5\n",
    "tcross"
   ]
  },
  {
   "cell_type": "code",
   "execution_count": null,
   "metadata": {},
   "outputs": [],
   "source": []
  },
  {
   "cell_type": "code",
   "execution_count": null,
   "metadata": {},
   "outputs": [],
   "source": [
    "# for tD < 0.01\n",
    "# qD = (2/SQRT(pi))(SQRT(tD))\n",
    "\n",
    "# for 0.01-< tD <200\n",
    "def new_qde(tD):\n",
    "    qD = None\n",
    "    if tD < 200 and 0.01<tD:\n",
    "        b0 = 1.129552\n",
    "        b1 = 1.160436\n",
    "        b2 = 0.2642821\n",
    "        b3 = 0.01131791\n",
    "        b4 = 0.5900113\n",
    "        b5 = 0.04589742\n",
    "        b6 = 1.00\n",
    "        b7 = 0.5002034\n",
    "        b8 = 1.500\n",
    "        b9 = 1.979139\n",
    "\n",
    "        qD = (b0*(tD**b7)+b1*(tD)+b2*(tD**b8)+b3*(tD**b9))/(b4*(tD**b7)+b5*(tD)+b6)\n",
    "\n",
    "    elif tD< 0.01:\n",
    "        qD = (2 * tD**0.5)/math.pi ** 0.5\n",
    "        \n",
    "        \n",
    "    #for 200-<tD<2.0*10^12\n",
    "    elif tD< 2*10**12 and tD>= 200 :\n",
    "        b0 = 4.39880\n",
    "        b1 = 0.43693\n",
    "        b2 = -4.16078\n",
    "        b3 = 0.090\n",
    "        qD = 10**(b0+b1* math.log(tD)+b2*((math.log(tD))**b3) )\n",
    "                  \n",
    "    return qD"
   ]
  },
  {
   "cell_type": "code",
   "execution_count": null,
   "metadata": {},
   "outputs": [],
   "source": [
    "df['new Wd'] = df['tde'].apply(new_qde)"
   ]
  },
  {
   "cell_type": "code",
   "execution_count": null,
   "metadata": {},
   "outputs": [],
   "source": [
    "new_qde(0)"
   ]
  },
  {
   "cell_type": "code",
   "execution_count": null,
   "metadata": {},
   "outputs": [],
   "source": [
    "df"
   ]
  },
  {
   "cell_type": "code",
   "execution_count": null,
   "metadata": {},
   "outputs": [],
   "source": [
    "U"
   ]
  },
  {
   "cell_type": "code",
   "execution_count": null,
   "metadata": {},
   "outputs": [],
   "source": [
    "def wde(df):\n",
    "    for i in range(1,len(df)):\n",
    "        wde = 0\n",
    "        for j in range(i):\n",
    "            wde += (df.loc[j,'delta p'] * df.loc[i-j,'new Wd']   )\n",
    "        df.loc[i,'wde'] = U * wde\n",
    "    return df"
   ]
  },
  {
   "cell_type": "code",
   "execution_count": null,
   "metadata": {},
   "outputs": [],
   "source": [
    "cols = df.columns[12:]"
   ]
  },
  {
   "cell_type": "code",
   "execution_count": null,
   "metadata": {},
   "outputs": [],
   "source": [
    "df.drop(columns = cols , inplace = True)"
   ]
  },
  {
   "cell_type": "code",
   "execution_count": null,
   "metadata": {},
   "outputs": [],
   "source": [
    "wde(df[df.columns[:-1]])"
   ]
  },
  {
   "cell_type": "code",
   "execution_count": null,
   "metadata": {},
   "outputs": [],
   "source": [
    "wde"
   ]
  },
  {
   "cell_type": "code",
   "execution_count": null,
   "metadata": {},
   "outputs": [],
   "source": [
    "df"
   ]
  },
  {
   "cell_type": "code",
   "execution_count": null,
   "metadata": {},
   "outputs": [],
   "source": [
    "df['F'] = df['Np']*(df['Bo']+(df['Rp']-df['Rs'])*df['Bg'])"
   ]
  },
  {
   "cell_type": "code",
   "execution_count": null,
   "metadata": {},
   "outputs": [],
   "source": [
    "## np(bo+(rp-rs)*bg)\n",
    "##E0 = ((b0-boi)+(rsi - rs)*bg)"
   ]
  },
  {
   "cell_type": "code",
   "execution_count": null,
   "metadata": {},
   "outputs": [],
   "source": [
    "df['Eo'] = (df['Bo']-df.loc[0,'Bo'])+(df.loc[0,'Rs'] - df['Rs'])*df['Bg']"
   ]
  },
  {
   "cell_type": "code",
   "execution_count": null,
   "metadata": {},
   "outputs": [],
   "source": [
    "df[df.columns[-2:]]"
   ]
  },
  {
   "cell_type": "code",
   "execution_count": null,
   "metadata": {},
   "outputs": [],
   "source": [
    "df.columns"
   ]
  },
  {
   "cell_type": "code",
   "execution_count": null,
   "metadata": {},
   "outputs": [],
   "source": [
    "df['f\\eo'] = df['F']/df['Eo']\n",
    "df['wd/eo'] = df['wde']/df['Eo']"
   ]
  },
  {
   "cell_type": "code",
   "execution_count": null,
   "metadata": {},
   "outputs": [],
   "source": [
    "df[df.columns[-6:]]"
   ]
  },
  {
   "cell_type": "code",
   "execution_count": null,
   "metadata": {},
   "outputs": [],
   "source": []
  },
  {
   "cell_type": "code",
   "execution_count": 7,
   "metadata": {},
   "outputs": [
    {
     "ename": "NameError",
     "evalue": "name 'df' is not defined",
     "output_type": "error",
     "traceback": [
      "\u001b[1;31m---------------------------------------------------------------------------\u001b[0m",
      "\u001b[1;31mNameError\u001b[0m                                 Traceback (most recent call last)",
      "\u001b[1;32m<ipython-input-7-08962d5dce47>\u001b[0m in \u001b[0;36m<module>\u001b[1;34m\u001b[0m\n\u001b[1;32m----> 1\u001b[1;33m \u001b[0mplt\u001b[0m\u001b[1;33m.\u001b[0m\u001b[0mplot\u001b[0m\u001b[1;33m(\u001b[0m\u001b[0mdf\u001b[0m\u001b[1;33m[\u001b[0m\u001b[1;34m'wd/eo'\u001b[0m\u001b[1;33m]\u001b[0m\u001b[1;33m,\u001b[0m\u001b[0mdf\u001b[0m\u001b[1;33m[\u001b[0m\u001b[1;34m'f\\eo'\u001b[0m\u001b[1;33m]\u001b[0m\u001b[1;33m)\u001b[0m\u001b[1;33m\u001b[0m\u001b[1;33m\u001b[0m\u001b[0m\n\u001b[0m",
      "\u001b[1;31mNameError\u001b[0m: name 'df' is not defined"
     ]
    }
   ],
   "source": [
    "plt.plot(df['wd/eo'],df['f\\eo'])"
   ]
  },
  {
   "cell_type": "code",
   "execution_count": null,
   "metadata": {},
   "outputs": [],
   "source": []
  },
  {
   "cell_type": "code",
   "execution_count": null,
   "metadata": {},
   "outputs": [],
   "source": []
  }
 ],
 "metadata": {
  "kernelspec": {
   "display_name": "Python 3",
   "language": "python",
   "name": "python3"
  },
  "language_info": {
   "codemirror_mode": {
    "name": "ipython",
    "version": 3
   },
   "file_extension": ".py",
   "mimetype": "text/x-python",
   "name": "python",
   "nbconvert_exporter": "python",
   "pygments_lexer": "ipython3",
   "version": "3.8.3"
  }
 },
 "nbformat": 4,
 "nbformat_minor": 2
}
