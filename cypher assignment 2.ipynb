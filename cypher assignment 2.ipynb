{
 "cells": [
  {
   "cell_type": "code",
   "execution_count": 3,
   "metadata": {},
   "outputs": [
    {
     "name": "stdout",
     "output_type": "stream",
     "text": [
      "enter the value of the pressure560\n",
      "enter the value of Temperature323\n",
      "enter the value of specific gravity 0.7\n",
      "enter the values of the impurity for h2s0.1\n",
      "enter the values of the impurity for co22\n",
      "enter the sum of values of the impurity for others substances0.5\n",
      "enter an initial guess0.001\n",
      "0.050206568280697576\n",
      "the compressibility factor is  0.8179313566126883\n"
     ]
    }
   ],
   "source": [
    "from math import exp as e\n",
    "\n",
    "def func(y,p,t):\n",
    "    t1 = -0.06125*p*t*e(-1.2*(1-t)**2)\n",
    "    t2 = (y+y**2+y**3-y**4)/(1-y)**3\n",
    "    t3 = (14.76*t - 9.76*t**2+4.58*t**3)*y**2\n",
    "    t4 = (90.7*t -242.2*t**2+42.4*t**3)*y**(2.18+2.82*t)\n",
    "    f = t1+t2-t3+t4\n",
    "    return f\n",
    "\n",
    "def derivative_func(y,p,t):\n",
    "    if y == 1:\n",
    "        return None\n",
    "    t1 = (1+4*y*+4*y**2-4*y**3+y**4)/(1-y)**4\n",
    "    \n",
    "    t2 = 2*(14.76*t - 9.76*t**2+4.58*t**3)*y\n",
    "\n",
    "    t3 = (2.18+2.82*t)*(90.7*t -242.2*t**2+42.4*t**3)*y**(1.18+2.82*t)\n",
    "    d_f = t1-t2+t3\n",
    "    return d_f\n",
    "\n",
    "def compressibility_func(y,p,t):\n",
    "    return (0.06125*p*t*e(-1.2*(1-t)**2))/y\n",
    "    \n",
    "def epsilon_(a,b):\n",
    "    \n",
    "    ans = 120 *(a**0.9 - a **1.6) +15 *(b**0.5 - b**4)\n",
    "    return ans\n",
    " \n",
    "def corrected_pressure(ppc,ctc,tpc,b,eps):\n",
    "    \"\"\"\n",
    "    ppc = pseudo critical pressure\n",
    "    ctc = corrected pseudo critical pressure\n",
    "    tpc = pseudo critical temperature\n",
    "    b= \n",
    "    eps = epsilon\n",
    "    \"\"\"\n",
    "    num = ppc * ctc\n",
    "    den = tpc  +b*(1-b)*eps\n",
    "    return num/den\n",
    "\n",
    "def corrected_temperature(tpc,eps):\n",
    "    return tpc - eps\n",
    "\n",
    "def newton_raphson(yi,p,t,err = 0.000001):\n",
    "    \"\"\"\n",
    "    err is tolerance value of satisfactory convergence\n",
    "    \"\"\"\n",
    "    f = func(yi,p,t)\n",
    "    while abs(f) > err:\n",
    "        yj = yi-f/derivative_func(yi,p,t)\n",
    "        f = func(yj,p,t)\n",
    "        yi = yj\n",
    "\n",
    "    return yi\n",
    "\n",
    "def critical_temp(sg):\n",
    "    return 168 + 325* sg  - 12.5 * sg**2\n",
    "\n",
    "def critical_pres(sg):\n",
    "    return 677+15 * sg - 37.5 *sg**2\n",
    "\n",
    "\n",
    "if __name__ == '__main__':\n",
    "    p = float(input('enter the value of the pressure'))\n",
    "    t = eval(input('enter the value of Temperature'))\n",
    "    sg = float(input('enter the value of specific gravity '))\n",
    "    \n",
    "    h2s = float(input('enter the values of the impurity for h2s'))\n",
    "    co2 = float(input('enter the values of the impurity for co2'))\n",
    "    others = float(input('enter the sum of values of the impurity for others substances'))\n",
    "    \n",
    "    b = h2s\n",
    "    a = h2s+co2\n",
    "    \n",
    "    try:\n",
    "        yi = eval(input('enter an initial guess'))\n",
    "    #yi = None\n",
    "    except :\n",
    "        yi = 0.001\n",
    "    if yi ==  1:\n",
    "        yi = 0.001\n",
    "     \n",
    "    tpc = critical_temp(sg)\n",
    "    ppc =  critical_pres(sg)\n",
    " \n",
    "    eps = epsilon_(a,b)\n",
    "    \n",
    "    \n",
    "    if a+b+others >5 :  ## according to lp dake chapter 1\n",
    "        ctc = corrected_temperature(tpc,eps)\n",
    "        cpc = corrected_pressure(pc,ctc,tpc,b,eps)\n",
    "        \n",
    "        tpc = ctc\n",
    "        ppc = cpc\n",
    "        \n",
    "        \n",
    "    pre = p/ ppc\n",
    "    tre = t/ tpc\n",
    "                                 \n",
    "                        \n",
    "    y = newton_raphson(yi,pre,tre)\n",
    "    print(y)\n",
    "    z = compressibility_func(y,pre,tre)\n",
    "    print('the compressibility factor is ',z)\n",
    "            \n",
    "    \n",
    "           "
   ]
  },
  {
   "cell_type": "code",
   "execution_count": null,
   "metadata": {},
   "outputs": [],
   "source": []
  },
  {
   "cell_type": "code",
   "execution_count": null,
   "metadata": {},
   "outputs": [],
   "source": []
  },
  {
   "cell_type": "code",
   "execution_count": null,
   "metadata": {},
   "outputs": [],
   "source": []
  },
  {
   "cell_type": "code",
   "execution_count": null,
   "metadata": {},
   "outputs": [],
   "source": []
  },
  {
   "cell_type": "code",
   "execution_count": null,
   "metadata": {},
   "outputs": [],
   "source": []
  },
  {
   "cell_type": "code",
   "execution_count": null,
   "metadata": {},
   "outputs": [],
   "source": []
  },
  {
   "cell_type": "code",
   "execution_count": null,
   "metadata": {},
   "outputs": [],
   "source": []
  },
  {
   "cell_type": "code",
   "execution_count": null,
   "metadata": {},
   "outputs": [],
   "source": []
  },
  {
   "cell_type": "code",
   "execution_count": null,
   "metadata": {},
   "outputs": [],
   "source": []
  },
  {
   "cell_type": "code",
   "execution_count": null,
   "metadata": {},
   "outputs": [],
   "source": []
  },
  {
   "cell_type": "code",
   "execution_count": null,
   "metadata": {},
   "outputs": [],
   "source": []
  },
  {
   "cell_type": "code",
   "execution_count": null,
   "metadata": {},
   "outputs": [],
   "source": []
  },
  {
   "cell_type": "code",
   "execution_count": null,
   "metadata": {},
   "outputs": [],
   "source": []
  },
  {
   "cell_type": "code",
   "execution_count": null,
   "metadata": {},
   "outputs": [],
   "source": []
  },
  {
   "cell_type": "markdown",
   "metadata": {},
   "source": [
    "## input"
   ]
  },
  {
   "cell_type": "code",
   "execution_count": 2,
   "metadata": {},
   "outputs": [
    {
     "name": "stdout",
     "output_type": "stream",
     "text": [
      "enter sth 4 yrs 4 mos\n"
     ]
    },
    {
     "data": {
      "text/plain": [
       "'4 yrs 4 mos'"
      ]
     },
     "execution_count": 2,
     "metadata": {},
     "output_type": "execute_result"
    }
   ],
   "source": [
    "input('enter sth ')"
   ]
  },
  {
   "cell_type": "markdown",
   "metadata": {},
   "source": [
    "# BLACK BOX"
   ]
  },
  {
   "cell_type": "markdown",
   "metadata": {},
   "source": [
    "## Output"
   ]
  },
  {
   "cell_type": "code",
   "execution_count": 1,
   "metadata": {},
   "outputs": [
    {
     "name": "stdout",
     "output_type": "stream",
     "text": [
      "52\n"
     ]
    }
   ],
   "source": [
    "print(52)"
   ]
  },
  {
   "cell_type": "code",
   "execution_count": null,
   "metadata": {},
   "outputs": [],
   "source": []
  }
 ],
 "metadata": {
  "kernelspec": {
   "display_name": "Python 3",
   "language": "python",
   "name": "python3"
  },
  "language_info": {
   "codemirror_mode": {
    "name": "ipython",
    "version": 3
   },
   "file_extension": ".py",
   "mimetype": "text/x-python",
   "name": "python",
   "nbconvert_exporter": "python",
   "pygments_lexer": "ipython3",
   "version": "3.8.3"
  }
 },
 "nbformat": 4,
 "nbformat_minor": 2
}
