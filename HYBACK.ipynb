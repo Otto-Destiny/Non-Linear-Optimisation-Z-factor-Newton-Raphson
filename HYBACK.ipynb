{
 "cells": [
  {
   "cell_type": "code",
   "execution_count": 7,
   "metadata": {},
   "outputs": [],
   "source": [
    "from math import exp as e\n",
    "\n",
    "def func(y,p,t):\n",
    "    t1 = -0.06125*p*t*e(-1.2*(1-t)**2)\n",
    "    t2 = (y+y**2+y**3-y**4)/(1-y)**3\n",
    "    t3 = (14.76*t - 9.76*t**2+4.58*t**3)*y**2\n",
    "    t4 = (90.7*t -242.2*t**2+42.4*t**3)*y**(2.18+2.82*t)\n",
    "    f = t1+t2-t3+t4\n",
    "    return f\n",
    "\n",
    "def derivative_func(y,p,t):\n",
    "    if y == 1:\n",
    "        return None\n",
    "    t1 = (1+4*y*+4*y**2-4*y**3+y**4)/(1-y)**4\n",
    "    \n",
    "    t2 = 2*(14.76*t - 9.76*t**2+4.58*t**3)*y\n",
    "\n",
    "    t3 = (2.18+2.82*t)*(90.7*t -242.2*t**2+42.4*t**3)*y**(1.18+2.82*t)\n",
    "    d_f = t1-t2+t3\n",
    "    return d_f\n",
    "\n",
    "def compressibility_func(y,p,t):\n",
    "    return (0.06125*p*t*e(-1.2*(1-t)**2))/y\n",
    "    \n",
    "\n",
    "\n",
    "def newton_raphson(yi,p,t,err = 0.000001):\n",
    "    \"\"\"\n",
    "    err is tolerance value of satisfactory convergence\n",
    "    \"\"\"\n",
    "    f = func(yi,p,t)\n",
    "    while abs(f) > err:\n",
    "        yj = yi-f/derivative_func(yi,p,t)\n",
    "        f = func(yj,p,t)\n",
    "        yi = yj\n",
    "\n",
    "    return yi\n",
    "\n",
    "\n",
    "\n",
    "    ''''p = float(input('enter the value of the pseudo reduced pressure'))\n",
    "    t = eval(input('enter the value of t'))\n",
    "    try:\n",
    "        yi = eval(input('enter an initial guess'))\n",
    "    #yi = None\n",
    "    except :\n",
    "        yi = 0.001\n",
    "    if yi ==  1:\n",
    "        yi = 0.001        \n",
    "y = newton_raphson(yi,p,t)\n",
    "print(y,p,t)\n",
    "   # z = compressibility_func(y,p,t)\n",
    "    z=(0.06125*p*t*e(-1.2*(1-t)**2))/y\n",
    "    print('the compressibility factor is ',z)\n",
    "            '''\n",
    "    \n",
    "           \n"
   ]
  },
  {
   "cell_type": "code",
   "execution_count": null,
   "metadata": {},
   "outputs": [],
   "source": []
  }
 ],
 "metadata": {
  "kernelspec": {
   "display_name": "Python 3",
   "language": "python",
   "name": "python3"
  },
  "language_info": {
   "codemirror_mode": {
    "name": "ipython",
    "version": 3
   },
   "file_extension": ".py",
   "mimetype": "text/x-python",
   "name": "python",
   "nbconvert_exporter": "python",
   "pygments_lexer": "ipython3",
   "version": "3.8.3"
  }
 },
 "nbformat": 4,
 "nbformat_minor": 4
}
